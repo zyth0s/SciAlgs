{
 "cells": [
  {
   "cell_type": "code",
   "execution_count": null,
   "metadata": {},
   "outputs": [],
   "source": [
    "# # Encoding Ising-like Hamiltonians as quantum circuits\n",
    "#\n",
    "# A more lengthy explanation is given in\n",
    "# https://www.mustythoughts.com/variational-quantum-eigensolver-explained\n",
    "using LinearAlgebra: I, tr"
   ]
  },
  {
   "cell_type": "code",
   "execution_count": 2,
   "metadata": {},
   "outputs": [
    {
     "data": {
      "text/plain": [
       "2-element Array{Int64,1}:\n",
       " 0\n",
       " 1"
      ]
     },
     "execution_count": 2,
     "metadata": {},
     "output_type": "execute_result"
    }
   ],
   "source": [
    "# Computational basis\n",
    "𝟎 = [1,0]\n",
    "𝟏 = [0,1]"
   ]
  },
  {
   "cell_type": "code",
   "execution_count": 3,
   "metadata": {},
   "outputs": [
    {
     "data": {
      "text/plain": [
       "2×2 Array{Int64,2}:\n",
       " 1   0\n",
       " 0  -1"
      ]
     },
     "execution_count": 3,
     "metadata": {},
     "output_type": "execute_result"
    }
   ],
   "source": [
    "X = [0 1; 1 0]\n",
    "Z = [1 0; 0 -1] # we measure in Z basis"
   ]
  },
  {
   "cell_type": "code",
   "execution_count": 4,
   "metadata": {},
   "outputs": [
    {
     "data": {
      "text/plain": [
       "2-element Array{Float64,1}:\n",
       "  0.7071067811865475\n",
       " -0.7071067811865475"
      ]
     },
     "execution_count": 4,
     "metadata": {},
     "output_type": "execute_result"
    }
   ],
   "source": [
    "H = [1 1; 1 -1]/√2\n",
    "p = H * 𝟎 # = |+⟩\n",
    "m = H * 𝟏 # = |-⟩"
   ]
  },
  {
   "cell_type": "markdown",
   "metadata": {},
   "source": [
    "## Measurements in fixed Z-basis: rotate to measure other Pauli matrices\n",
    "\n",
    "If we measure in the Z basis its not possible to distinguish between |+⟩ and\n",
    "|-⟩. "
   ]
  },
  {
   "cell_type": "code",
   "execution_count": 5,
   "metadata": {},
   "outputs": [
    {
     "name": "stderr",
     "output_type": "stream",
     "text": [
      "┌ Info: (\"⟨+|Z|+⟩ ≈ ⟨-|Z|-⟩\", true)\n",
      "└ @ Main In[5]:1\n"
     ]
    }
   ],
   "source": [
    "@info \"⟨+|Z|+⟩ ≈ ⟨-|Z|-⟩\", p'*Z*p ≈ m'* Z*m"
   ]
  },
  {
   "cell_type": "markdown",
   "metadata": {},
   "source": [
    "However, if we rotate the basis, then it is possible."
   ]
  },
  {
   "cell_type": "code",
   "execution_count": 6,
   "metadata": {},
   "outputs": [
    {
     "data": {
      "text/plain": [
       "Ry (generic function with 1 method)"
      ]
     },
     "execution_count": 6,
     "metadata": {},
     "output_type": "execute_result"
    }
   ],
   "source": [
    "Ry(θ) = [cos(θ/2) -sin(θ/2); sin(θ/2) cos(θ/2)]"
   ]
  },
  {
   "cell_type": "code",
   "execution_count": 12,
   "metadata": {},
   "outputs": [],
   "source": [
    "@assert Ry(π/2)*p ≈ 𝟏\n",
    "@assert Ry(π/2)*m ≈ 𝟎"
   ]
  },
  {
   "cell_type": "code",
   "execution_count": 8,
   "metadata": {},
   "outputs": [
    {
     "name": "stderr",
     "output_type": "stream",
     "text": [
      "┌ Info: (\"⟨+|Z|Ry(-π/2)|+⟩ ≈ ⟨-|Z|Ry(-π/2)|-⟩\", false)\n",
      "└ @ Main In[8]:3\n",
      "┌ Info: (\"Outcome of ⟨+|Z|Ry(-π/2)|+⟩ = \", 0.9999999999999998)\n",
      "└ @ Main In[8]:4\n",
      "┌ Info: (\"Outcome of ⟨-|Z|Ry(-π/2)|-⟩ = \", -0.9999999999999998)\n",
      "└ @ Main In[8]:5\n"
     ]
    }
   ],
   "source": [
    "p_rot = Ry(-π/2)*p\n",
    "m_rot = Ry(-π/2)*m\n",
    "@info \"⟨+|Z|Ry(-π/2)|+⟩ ≈ ⟨-|Z|Ry(-π/2)|-⟩\", p_rot'*Z*p_rot ≈ m_rot'* Z*m_rot\n",
    "@info \"Outcome of ⟨+|Z|Ry(-π/2)|+⟩ = \", p_rot'*Z*p_rot\n",
    "@info \"Outcome of ⟨-|Z|Ry(-π/2)|-⟩ = \", m_rot'* Z*m_rot"
   ]
  },
  {
   "cell_type": "markdown",
   "metadata": {},
   "source": [
    "The solution is to apply\n",
    "* $R_y(−\\pi/2)$      if Hamiltonian has $\\hat{X}$\n",
    "* $R_x(\\pi/2)$       if Hamiltonian has $\\hat{Y}$\n",
    "* $I$                if Hamiltonian has $\\hat{Z}$\n",
    "\n",
    "## Divide the Hamiltonian in single Pauli terms"
   ]
  },
  {
   "cell_type": "code",
   "execution_count": 9,
   "metadata": {},
   "outputs": [],
   "source": [
    "𝓗₁ = 2Z\n",
    "𝓗₂ = X\n",
    "𝓗₃ = I(2)\n",
    "𝓗 = 𝓗₁ + 𝓗₂ + 𝓗₃\n",
    "@assert 𝓗 ≈ [3 1; 1 -1]"
   ]
  },
  {
   "cell_type": "markdown",
   "metadata": {},
   "source": [
    "## Initial state\n",
    "\n",
    "We use a parametrized initial wavefunction for reasons that will be explained\n",
    "later but you can already guess that we will do a variational search."
   ]
  },
  {
   "cell_type": "code",
   "execution_count": 10,
   "metadata": {},
   "outputs": [
    {
     "data": {
      "text/plain": [
       "ansatz (generic function with 1 method)"
      ]
     },
     "execution_count": 10,
     "metadata": {},
     "output_type": "execute_result"
    }
   ],
   "source": [
    "# Ansatz will be Ry(θ)*𝟎\n",
    "ansatz(θ) = Ry(θ)*𝟎"
   ]
  },
  {
   "cell_type": "markdown",
   "metadata": {},
   "source": [
    "## A circuit for each term"
   ]
  },
  {
   "cell_type": "code",
   "execution_count": 13,
   "metadata": {},
   "outputs": [
    {
     "name": "stderr",
     "output_type": "stream",
     "text": [
      "┌ Info: θ = 0.0\n",
      "└ @ Main In[13]:3\n",
      "┌ Info:   E₁ = 2.0\n",
      "└ @ Main In[13]:9\n",
      "┌ Info:   E₂ = 2.220446049250313e-16\n",
      "└ @ Main In[13]:16\n",
      "┌ Info:   E₃ = 1\n",
      "└ @ Main In[13]:21\n",
      "┌ Info:   ⟨ψ(0.0)|𝓗|ψ(0.0)⟩ = 3.0\n",
      "└ @ Main In[13]:23\n",
      "┌ Info: θ = 3.141592653589793\n",
      "└ @ Main In[13]:3\n",
      "┌ Info:   E₁ = -2.0\n",
      "└ @ Main In[13]:9\n",
      "┌ Info:   E₂ = -2.220446049250313e-16\n",
      "└ @ Main In[13]:16\n",
      "┌ Info:   E₃ = 1\n",
      "└ @ Main In[13]:21\n",
      "┌ Info:   ⟨ψ(3.141592653589793)|𝓗|ψ(3.141592653589793)⟩ = -1.0\n",
      "└ @ Main In[13]:23\n"
     ]
    }
   ],
   "source": [
    "for θ in [0,π]\n",
    "\n",
    "   @info \"θ = $θ\"\n",
    "   # Circuit for 𝓗₁: ψ ---[ h₁ )===\n",
    "\n",
    "   ψ = ansatz(θ)\n",
    "\n",
    "   h₁ = 2ψ' * Z * ψ\n",
    "   @info \"  E₁ = $h₁\"\n",
    "\n",
    "   # Circuit for 𝓗₂: ψ ---[ Ry ]---[ h₂ )===\n",
    "\n",
    "   ψ = Ry(-π/2)*ansatz(θ)\n",
    "\n",
    "   h₂ = ψ' * Z * ψ\n",
    "   @info \"  E₂ = $h₂\"\n",
    "\n",
    "   # Circuit for 𝓗₃:\n",
    "\n",
    "   h₃ = 1\n",
    "   @info \"  E₃ = $h₃\"\n",
    "\n",
    "   @info \"  ⟨ψ($θ)|𝓗|ψ($θ)⟩ = $(h₁ + h₂ + h₃)\"\n",
    "end"
   ]
  }
 ],
 "metadata": {
  "jupytext": {
   "cell_metadata_filter": "-all",
   "encoding": "# -*- coding: utf-8 -*-",
   "formats": "jl:light,ipynb"
  },
  "kernelspec": {
   "display_name": "Julia 1.5.3",
   "language": "julia",
   "name": "julia-1.5"
  },
  "language_info": {
   "file_extension": ".jl",
   "mimetype": "application/julia",
   "name": "julia",
   "version": "1.5.3"
  }
 },
 "nbformat": 4,
 "nbformat_minor": 4
}
