{
 "cells": [
  {
   "cell_type": "markdown",
   "metadata": {},
   "source": [
    "# Hands-on quantum computing for the very curious"
   ]
  },
  {
   "cell_type": "markdown",
   "metadata": {},
   "source": [
    "Have you ever heard of quantum teleportation and wondered what is it? Until\n",
    "very recently I was like you.  Even if I have received academic formation\n",
    "(involving quantum mechanics) I never thought that it was an easy phenomenom\n",
    "to grasp - always wondering what the exact protocol is. For instance, once I\n",
    "opened a quantum information book at a university public library and I was\n",
    "scared enough to not look further. On the other hand, popular explanations of\n",
    "the concept always fail to give a satisfactory description because they omit\n",
    "the only tool that helps us understand quantum mechanics: math. \n",
    "\n",
    "My perspective changed completely when I encountered Nielsen and Matuschak's\n",
    "fantastic essays [Quantum Computing for the very\n",
    "curious](https://quantum.country/qcvc). Therefore I recommend you to read\n",
    "these before continuing. It turns out that\n",
    "most of the calculations can be reduced to simple low dimensional matrix\n",
    "operations. Furthermore, the whole protocol can be condensed into a single diagram.\n",
    "\n",
    "In this tutorial we will cover some of the same concepts with the help of a\n",
    "computer. All code below is written in Julia.   The linear algebra objects that we need are: the identity matrix\n",
    "$I_m$, the adjoint operation $A^\\dagger$, the determinant, trace, kroenecker\n",
    "(or tensor) product, and a normalization function. The rest is already loaded\n",
    "by Julia.\n",
    "\n"
   ]
  },
  {
   "cell_type": "code",
   "execution_count": 1,
   "metadata": {},
   "outputs": [
    {
     "data": {
      "text/plain": [
       "kron (generic function with 23 methods)"
      ]
     },
     "execution_count": 1,
     "metadata": {},
     "output_type": "execute_result"
    }
   ],
   "source": [
    "using LinearAlgebra: I, adjoint, det, tr, kron, normalize!\n",
    "const ⊗ = kron"
   ]
  },
  {
   "cell_type": "markdown",
   "metadata": {},
   "source": [
    "## Computational quantum basis\n",
    "\n",
    "Our digital computers are able to reduce all information to zeros and ones,\n",
    "that is, a bit may be one of the set $\\{0,1\\}$. Measurements can be described\n",
    "by a probability distribution on the space of possible bits $p: \\{0,1\\} \\to\n",
    "[0,1]$. However, quantum bits belong to a two-dimensional complex vector\n",
    "space $\\mathbb{C}^2$. Measurements give also a probability but draw from a\n",
    "larger space $\\rho_p: \\mathbb{C}^2 \\to [0,1]$.\n",
    "\n",
    "Now you might ask how do we move data stored in bits to qubits. It turns out\n",
    "that you can map every classical probability distribution to a quantum\n",
    "probability distribution. This distribution is called a density operator,\n",
    "$\\rho_p$. If we think of each element of the bitset $\\{𝟎,𝟏\\}$ as a $2\\times\n",
    "1$ basis vector, both form an orthonormal basis that spans $\\mathbb{C}^2$.\n",
    "\n",
    "* $|0\\rangle$ = [1 0]ᵀ is the classical bit 0\n",
    "* $|1\\rangle$ = [0 1]ᵀ is the classical bit 1"
   ]
  },
  {
   "cell_type": "code",
   "execution_count": 2,
   "metadata": {},
   "outputs": [
    {
     "data": {
      "text/plain": [
       "2-element Array{Int64,1}:\n",
       " 0\n",
       " 1"
      ]
     },
     "execution_count": 2,
     "metadata": {},
     "output_type": "execute_result"
    }
   ],
   "source": [
    "𝟎 = [1, 0] # ≡ $|0\\rangle$; typeset with \\bfzero\n",
    "𝟏 = [0, 1] # ≡ $|1\\rangle$; typeset with \\bfone"
   ]
  },
  {
   "cell_type": "markdown",
   "metadata": {},
   "source": [
    "The density operator is the $2 \\times 2$ matrix with the classical\n",
    "probabilities arranged along its diagonal, the rest zeros. If we have a\n",
    "classical bit 0 (probability $p=1$ to have 𝟎 and $p=0$ to have 𝟏), then the\n",
    "density operator is"
   ]
  },
  {
   "cell_type": "code",
   "execution_count": 3,
   "metadata": {},
   "outputs": [
    {
     "data": {
      "text/plain": [
       "2×2 Array{Int64,2}:\n",
       " 1  0\n",
       " 0  0"
      ]
     },
     "execution_count": 3,
     "metadata": {},
     "output_type": "execute_result"
    }
   ],
   "source": [
    "ρ𝟎 = [1 0;\n",
    "      0 0]"
   ]
  },
  {
   "cell_type": "markdown",
   "metadata": {},
   "source": [
    "Other way to map classical to quantum probabilities is using the outer product"
   ]
  },
  {
   "cell_type": "code",
   "execution_count": 4,
   "metadata": {},
   "outputs": [],
   "source": [
    "@assert ρ𝟎 ≈ 1𝟎*𝟎' + 0𝟏*𝟏' # 𝟎 has p=1, and 𝟏 has p=0 probability"
   ]
  },
  {
   "cell_type": "markdown",
   "metadata": {},
   "source": [
    "The same probability distribution can be arranged as a vector if we had\n",
    "chosen the tensor product instead of the outer product. Instead of a $2\n",
    "\\times 2$ matrix we have a $4 \\times 1$ vector. Technically, a vector space\n",
    "like $\\mathbb{C}^2$ is isomorphic to $\\mathbb{C} \\otimes \\mathbb{C}$."
   ]
  },
  {
   "cell_type": "code",
   "execution_count": 5,
   "metadata": {},
   "outputs": [],
   "source": [
    "@assert vec(ρ𝟎) ≈ 1𝟎 ⊗ 𝟎 + 0𝟏 ⊗ 𝟏"
   ]
  },
  {
   "cell_type": "markdown",
   "metadata": {},
   "source": [
    "### A general qubit\n",
    "\n",
    "A general qubit $|\\psi\\rangle = \\alpha |𝟎\\rangle + \\beta |𝟏\\rangle \\in\n",
    "\\mathbb{C}^2$ is described as a linear combination of the basis vectors and\n",
    "it must satisfy the normalization condition $|\\alpha|^2 + |\\beta|^2 = 1$."
   ]
  },
  {
   "cell_type": "code",
   "execution_count": 6,
   "metadata": {},
   "outputs": [],
   "source": [
    "α = 0.6\n",
    "β = 0.8\n",
    "@assert α^2 + β^2 ≈ 1 # normalization contraint (here for α, β ∈ ℝ)\n",
    "ψ = α*𝟎 + β*𝟏\n",
    "@assert ψ ≈ [α, β]\n",
    "@assert ψ'*ψ ≈ 1 # ⟨ψ|ψ⟩ = 1 (normalization again)"
   ]
  },
  {
   "cell_type": "markdown",
   "metadata": {},
   "source": [
    "## Quantum gates\n",
    "\n",
    "Once we have transformed our information to qubits we need to manipulate them\n",
    "to achieve our goal. Those operations are realized with gates that are\n",
    "analogous to classical circuit gates.\n",
    "\n",
    "### Pauli σₓ gate: `X == NOT == ---[ X ]---`"
   ]
  },
  {
   "cell_type": "code",
   "execution_count": 7,
   "metadata": {},
   "outputs": [
    {
     "data": {
      "text/plain": [
       "2×2 Array{Int64,2}:\n",
       " 0  1\n",
       " 1  0"
      ]
     },
     "execution_count": 7,
     "metadata": {},
     "output_type": "execute_result"
    }
   ],
   "source": [
    "X = [0 1; 1 0]"
   ]
  },
  {
   "cell_type": "code",
   "execution_count": 8,
   "metadata": {
    "lines_to_next_cell": 2
   },
   "outputs": [],
   "source": [
    "@assert X*𝟎 ≈ 𝟏\n",
    "@assert X*𝟏 ≈ 𝟎\n",
    "# By the linearity of matrix multiplication it follows that the matrix acts the\n",
    "# same way as the X on all input states, and so they are the same operation."
   ]
  },
  {
   "cell_type": "code",
   "execution_count": 9,
   "metadata": {},
   "outputs": [],
   "source": [
    "@assert X*adjoint(X) ≈ I(2) # this is a proof of unitariness"
   ]
  },
  {
   "cell_type": "code",
   "execution_count": 10,
   "metadata": {},
   "outputs": [
    {
     "data": {
      "text/plain": [
       "2-element Array{Float64,1}:\n",
       " 0.8\n",
       " 0.6"
      ]
     },
     "execution_count": 10,
     "metadata": {},
     "output_type": "execute_result"
    }
   ],
   "source": [
    "X*ψ"
   ]
  },
  {
   "cell_type": "markdown",
   "metadata": {},
   "source": [
    "### Hadamard gate:  `H == ---[ H ]---`\n",
    "\n",
    "A Hadamard gate converts a classical bit into a general qubit."
   ]
  },
  {
   "cell_type": "code",
   "execution_count": 11,
   "metadata": {},
   "outputs": [
    {
     "data": {
      "text/plain": [
       "2×2 Array{Float64,2}:\n",
       " 0.707107   0.707107\n",
       " 0.707107  -0.707107"
      ]
     },
     "execution_count": 11,
     "metadata": {},
     "output_type": "execute_result"
    }
   ],
   "source": [
    "H = [1 1; 1 -1]./√2"
   ]
  },
  {
   "cell_type": "code",
   "execution_count": 12,
   "metadata": {},
   "outputs": [],
   "source": [
    "@assert H*𝟎 ≈ [1, 1]./√2 # kinda bonding state\n",
    "@assert H*𝟏 ≈ [1,-1]./√2 # kinda antibonding state\n",
    "# By the linearity of matrix multiplication it follows that the matrix acts the\n",
    "# same way as the Hadamard on all input states, and so they are the same\n",
    "# operation."
   ]
  },
  {
   "cell_type": "code",
   "execution_count": 13,
   "metadata": {},
   "outputs": [],
   "source": [
    "@assert H^2 ≈ I(2) # H is idempotent"
   ]
  },
  {
   "cell_type": "code",
   "execution_count": 14,
   "metadata": {
    "lines_to_next_cell": 2
   },
   "outputs": [],
   "source": [
    "@assert H*adjoint(H) ≈ I(2) # this is a proof of unitariness\n",
    "@assert abs(det(H)) ≈ 1 # conservation of particles"
   ]
  },
  {
   "cell_type": "markdown",
   "metadata": {},
   "source": [
    "Not every matrix is a gate, for instance"
   ]
  },
  {
   "cell_type": "code",
   "execution_count": 15,
   "metadata": {},
   "outputs": [],
   "source": [
    "J = [1 1; 1 1]./√2\n",
    "@assert (J*adjoint(J) ≈ I(2)) == false"
   ]
  },
  {
   "cell_type": "markdown",
   "metadata": {},
   "source": [
    "H X ψ == ---[ X ]---[ H ]---\n",
    "\n",
    "### Measurement: `---| m )===`\n",
    "\n",
    "Measurements can be performed by \"casting the shadow\" of the qubit state at a\n",
    "place where we can look, that is, our computational quantum basis. Measuring\n",
    "the probability of having the a $|0\\rangle$ is the like taking a marginal\n",
    "probability from the joint probability."
   ]
  },
  {
   "cell_type": "code",
   "execution_count": 16,
   "metadata": {},
   "outputs": [
    {
     "data": {
      "text/plain": [
       "measure (generic function with 2 methods)"
      ]
     },
     "execution_count": 16,
     "metadata": {},
     "output_type": "execute_result"
    }
   ],
   "source": [
    "measure(ψ, verbose=false) = begin\n",
    "   p𝟎 = tr(ψ*ψ' * 𝟎*𝟎') # ≡ ⟨ψ|0⟩⟨0|ψ⟩ resol. ident\n",
    "   p𝟏 = tr(ψ*ψ' * 𝟏*𝟏') # ≡ ⟨ψ|1⟩⟨1|ψ⟩ resol. ident\n",
    "   if verbose\n",
    "      println(\"m = 0 with probability $p𝟎\")\n",
    "      println(\"m = 1 with probability $p𝟏\")\n",
    "   end\n",
    "   [p𝟎, p𝟏]\n",
    "end"
   ]
  },
  {
   "cell_type": "code",
   "execution_count": 17,
   "metadata": {},
   "outputs": [
    {
     "data": {
      "text/plain": [
       "2-element Array{Float64,1}:\n",
       " 0.0\n",
       " 0.9999999999999996"
      ]
     },
     "execution_count": 17,
     "metadata": {},
     "output_type": "execute_result"
    }
   ],
   "source": [
    "# _ψ2 ---[ H ]---[ m )===\n",
    "_ψ = rand([𝟎,𝟏])\n",
    "_ψ2 = H*_ψ # Input state is either (|0⟩ + |1⟩)/√2 or (|0⟩ - |1⟩)/√2\n",
    "H*_ψ2 |> measure"
   ]
  },
  {
   "cell_type": "markdown",
   "metadata": {
    "lines_to_next_cell": 2
   },
   "source": [
    "    if m = 0 => input was (|0⟩ + |1⟩)/√2\n",
    "    if m = 1 => input was (|0⟩ - |1⟩)/√2\n",
    "\n",
    "###  Pauli σy gate:  `Y == ---[ Y ]---`"
   ]
  },
  {
   "cell_type": "code",
   "execution_count": 18,
   "metadata": {},
   "outputs": [],
   "source": [
    "Y = [0 -im; im 0]\n",
    "@assert Y*adjoint(Y) ≈ I(2)"
   ]
  },
  {
   "cell_type": "markdown",
   "metadata": {},
   "source": [
    "### Pauli σz gate: `Z == ---[ Z ]---`"
   ]
  },
  {
   "cell_type": "code",
   "execution_count": 19,
   "metadata": {},
   "outputs": [],
   "source": [
    "Z = [1 0; 0 -1]\n",
    "@assert Z*adjoint(Z) ≈ I(2)"
   ]
  },
  {
   "cell_type": "markdown",
   "metadata": {},
   "source": [
    "### General rotation gate"
   ]
  },
  {
   "cell_type": "code",
   "execution_count": 20,
   "metadata": {},
   "outputs": [
    {
     "data": {
      "text/plain": [
       "1.5707963267948966"
      ]
     },
     "execution_count": 20,
     "metadata": {},
     "output_type": "execute_result"
    }
   ],
   "source": [
    "θ = π/2"
   ]
  },
  {
   "cell_type": "code",
   "execution_count": 21,
   "metadata": {},
   "outputs": [
    {
     "data": {
      "text/plain": [
       "2×2 Array{Float64,2}:\n",
       " 6.12323e-17  -1.0\n",
       " 1.0           6.12323e-17"
      ]
     },
     "execution_count": 21,
     "metadata": {},
     "output_type": "execute_result"
    }
   ],
   "source": [
    "R = [cos(θ) -sin(θ); sin(θ) cos(θ)]"
   ]
  },
  {
   "cell_type": "code",
   "execution_count": 22,
   "metadata": {},
   "outputs": [],
   "source": [
    "@assert R*adjoint(R) ≈ I(2)"
   ]
  },
  {
   "cell_type": "markdown",
   "metadata": {},
   "source": [
    "## Multi-qubit states\n",
    "\n",
    "Here again, we can find an analogy with the classical world if we think that\n",
    "we are passing from sets to vector spaces. Whereas classical state spaces are\n",
    "combined with the cartesian product, such as $\\{0,1\\} \\times \\{0,1\\}$,\n",
    "quantum state spaces are combined with the tensor product, $\\mathbb{C}^2 ⊗\n",
    "\\mathbb{C}^2$. The classical probability $p: \\{0,1\\} \\times \\{0,1\\} \\to\n",
    "[0,1]$ on the combined set will be a joint probability (the probability of\n",
    "both having 0 in the first and 0 in the second bit, for example). The\n",
    "corresponding density operator will be also a joint probability in their\n",
    "tensor product space $\\rho_p: \\mathbb{C}^2 \\otimes \\mathbb{C}^2 \\cong\n",
    "\\mathbb{C}^4 \\to [0,1]$."
   ]
  },
  {
   "cell_type": "code",
   "execution_count": 23,
   "metadata": {},
   "outputs": [
    {
     "data": {
      "text/plain": [
       "4-element Array{Int64,1}:\n",
       " 0\n",
       " 0\n",
       " 0\n",
       " 1"
      ]
     },
     "execution_count": 23,
     "metadata": {},
     "output_type": "execute_result"
    }
   ],
   "source": [
    "𝟎𝟎 = 𝟎 ⊗ 𝟎\n",
    "𝟎𝟏 = 𝟎 ⊗ 𝟏\n",
    "𝟏𝟎 = 𝟏 ⊗ 𝟎\n",
    "𝟏𝟏 = 𝟏 ⊗ 𝟏"
   ]
  },
  {
   "cell_type": "code",
   "execution_count": 24,
   "metadata": {},
   "outputs": [
    {
     "data": {
      "text/plain": [
       "2-element Array{Float64,1}:\n",
       " 0.8\n",
       " 0.6"
      ]
     },
     "execution_count": 24,
     "metadata": {},
     "output_type": "execute_result"
    }
   ],
   "source": [
    "γ = 0.8\n",
    "δ = 0.6\n",
    "ϕ = γ*𝟎 + δ*𝟏"
   ]
  },
  {
   "cell_type": "markdown",
   "metadata": {},
   "source": [
    "More generally, if we have single-qubit states ψ and ϕ, then the combined\n",
    "state when the two qubits are put together is just:"
   ]
  },
  {
   "cell_type": "code",
   "execution_count": 25,
   "metadata": {},
   "outputs": [],
   "source": [
    "ξ = ψ ⊗ ϕ\n",
    "@assert ξ ≈ [ψ[1]*ϕ[1], ψ[1]*ϕ[2], ψ[2]*ϕ[1], ψ[2]*ϕ[2]]"
   ]
  },
  {
   "cell_type": "markdown",
   "metadata": {},
   "source": [
    "## Multi-qubit gates\n",
    "Take the form  G₁ ⊗ G₂ ⊗ ⋯\n",
    "\n",
    "### Controlled-NOT gate (CNOT)\n",
    "      x ---⋅---\n",
    "           |\n",
    "      y ---⊕---\n",
    "      x is the control qubit\n",
    "      y is the target qubit\n",
    "      |x, y ⊕ x⟩ for short"
   ]
  },
  {
   "cell_type": "code",
   "execution_count": 26,
   "metadata": {
    "lines_to_next_cell": 2
   },
   "outputs": [],
   "source": [
    "CNOT = [1 0 0 0;\n",
    "        0 1 0 0;\n",
    "        0 0 0 1;\n",
    "        0 0 1 0]\n",
    "# Also\n",
    "@assert CNOT ≈ cat(I(2), X, dims=(1,2)) #|> Matrix\n",
    "@assert CNOT ≈ 𝟎*𝟎' ⊗ I(2) + 𝟏*𝟏' ⊗ X"
   ]
  },
  {
   "cell_type": "code",
   "execution_count": 27,
   "metadata": {
    "lines_to_next_cell": 2
   },
   "outputs": [],
   "source": [
    "@assert CNOT*𝟎𝟎 ≈ 𝟎𝟎\n",
    "@assert CNOT*𝟎𝟏 ≈ 𝟎𝟏\n",
    "@assert CNOT*𝟏𝟎 ≈ 𝟏𝟏\n",
    "@assert CNOT*𝟏𝟏 ≈ 𝟏𝟎"
   ]
  },
  {
   "cell_type": "code",
   "execution_count": 28,
   "metadata": {},
   "outputs": [
    {
     "data": {
      "text/plain": [
       "4×4 Array{Float64,2}:\n",
       " 0.707107   0.707107  0.0        0.0\n",
       " 0.707107  -0.707107  0.0        0.0\n",
       " 0.0        0.0       0.707107   0.707107\n",
       " 0.0        0.0       0.707107  -0.707107"
      ]
     },
     "execution_count": 28,
     "metadata": {},
     "output_type": "execute_result"
    }
   ],
   "source": [
    "# Apply H to first qubit in a 2d space\n",
    "H₁ = H ⊗ I(2)\n",
    "# Apply H to second qubit in a 2d space\n",
    "H₂ = I(2) ⊗ H"
   ]
  },
  {
   "cell_type": "code",
   "execution_count": 29,
   "metadata": {
    "lines_to_next_cell": 2
   },
   "outputs": [
    {
     "data": {
      "text/plain": [
       "4-element Array{Float64,1}:\n",
       " 0.7071067811865475\n",
       " 0.0\n",
       " 0.0\n",
       " 0.7071067811865475"
      ]
     },
     "execution_count": 29,
     "metadata": {},
     "output_type": "execute_result"
    }
   ],
   "source": [
    "CNOT*H₁*𝟎𝟎"
   ]
  },
  {
   "cell_type": "markdown",
   "metadata": {},
   "source": [
    "Beware, CNOT can change the control qubit!"
   ]
  },
  {
   "cell_type": "code",
   "execution_count": 30,
   "metadata": {},
   "outputs": [
    {
     "data": {
      "text/plain": [
       "4-element Array{Float64,1}:\n",
       "  0.4999999999999999\n",
       " -0.4999999999999999\n",
       " -0.4999999999999999\n",
       "  0.4999999999999999"
      ]
     },
     "execution_count": 30,
     "metadata": {},
     "output_type": "execute_result"
    }
   ],
   "source": [
    "# |+-⟩\n",
    "pm = H*𝟎 ⊗ H*𝟏\n",
    "# |--⟩\n",
    "mm = H*𝟏 ⊗ H*𝟏"
   ]
  },
  {
   "cell_type": "markdown",
   "metadata": {},
   "source": [
    "    |0⟩ ---[ H ]--- |+⟩---⋅--- |-⟩\n",
    "                          |\n",
    "    |1⟩ ---[ H ]--- |-⟩---⊕--- |-⟩"
   ]
  },
  {
   "cell_type": "code",
   "execution_count": 31,
   "metadata": {},
   "outputs": [],
   "source": [
    "@assert CNOT*pm ≈ mm"
   ]
  },
  {
   "cell_type": "markdown",
   "metadata": {},
   "source": [
    "## Global phase factor"
   ]
  },
  {
   "cell_type": "code",
   "execution_count": 32,
   "metadata": {},
   "outputs": [
    {
     "data": {
      "text/plain": [
       "0.24805413652694797"
      ]
     },
     "execution_count": 32,
     "metadata": {},
     "output_type": "execute_result"
    }
   ],
   "source": [
    "θ = rand() # any real number"
   ]
  },
  {
   "cell_type": "code",
   "execution_count": 33,
   "metadata": {},
   "outputs": [
    {
     "data": {
      "text/plain": [
       "G (generic function with 1 method)"
      ]
     },
     "execution_count": 33,
     "metadata": {},
     "output_type": "execute_result"
    }
   ],
   "source": [
    "G(θ) = ℯ^(im*θ) * I(2) # global phase factor ℯ^(iθ)"
   ]
  },
  {
   "cell_type": "code",
   "execution_count": 34,
   "metadata": {},
   "outputs": [
    {
     "name": "stderr",
     "output_type": "stream",
     "text": [
      "┌ Info: A matrix changing the global phase factor is unitary.\n",
      "└ @ Main In[34]:3\n"
     ]
    }
   ],
   "source": [
    "if typeof(θ) <: Real\n",
    "   @assert G(θ)*adjoint(G(θ)) ≈ I(2)\n",
    "   @info \"A matrix changing the global phase factor is unitary.\"\n",
    "end"
   ]
  },
  {
   "cell_type": "code",
   "execution_count": 35,
   "metadata": {},
   "outputs": [
    {
     "name": "stderr",
     "output_type": "stream",
     "text": [
      "┌ Info: Changing the phase does not affect the measurement.\n",
      "└ @ Main In[35]:1\n"
     ]
    }
   ],
   "source": [
    "@info \"Changing the phase does not affect the measurement.\"\n",
    "@assert G(rand())*𝟎 |> measure ≈ measure(𝟎)"
   ]
  },
  {
   "cell_type": "markdown",
   "metadata": {},
   "source": [
    "## Other gates"
   ]
  },
  {
   "cell_type": "code",
   "execution_count": 36,
   "metadata": {},
   "outputs": [
    {
     "data": {
      "text/plain": [
       "2×2 Array{Complex{Float64},2}:\n",
       " 1.0+0.0im       0.0+0.0im\n",
       " 0.0+0.0im  0.707107+0.707107im"
      ]
     },
     "execution_count": 36,
     "metadata": {},
     "output_type": "execute_result"
    }
   ],
   "source": [
    "S = [ 1 0; 0 im]\n",
    "T = [ 1 0; 0 ℯ^(im*π/4)]\n",
    "#Y = [ 0 -im; im 0]\n",
    "#Z = [ 1 0; 0 -1]"
   ]
  },
  {
   "cell_type": "markdown",
   "metadata": {},
   "source": [
    "## Quantum teleportation"
   ]
  },
  {
   "cell_type": "markdown",
   "metadata": {
    "lines_to_next_cell": 2
   },
   "source": [
    "Alice and Bob can share beforehand a special two-qubit\n",
    "\n",
    "    |0⟩ ---[ H ]---⋅--- \n",
    "                   |   \n",
    "                   |    (|00⟩ + |11⟩)/√2\n",
    "                   |\n",
    "    |0⟩ -----------⊕---\n",
    "    \n"
   ]
  },
  {
   "cell_type": "code",
   "execution_count": 37,
   "metadata": {},
   "outputs": [
    {
     "data": {
      "text/plain": [
       "4-element Array{Float64,1}:\n",
       " 0.7071067811865475\n",
       " 0.0\n",
       " 0.0\n",
       " 0.7071067811865475"
      ]
     },
     "execution_count": 37,
     "metadata": {},
     "output_type": "execute_result"
    }
   ],
   "source": [
    "ebit = CNOT*H₁*𝟎𝟎 # entangled bit -> shared"
   ]
  },
  {
   "cell_type": "markdown",
   "metadata": {},
   "source": [
    "Then, they can separate.\n",
    "\n",
    "The full protocol can be condensed in the following diagram\n",
    "\n",
    "             teleported state:  |ψ⟩  ------⋅---[ H ]---[ z )===\n",
    "                                           |\n",
    "                                           |\n",
    "                                           |\n",
    "           |0⟩ ---[ H ]---⋅----------------⊕-----------[ x )===\n",
    "                          |  |00⟩ + |11⟩\n",
    "                          | ------------\n",
    "                          |      √2\n",
    "           |0⟩ -----------⊕------------------------------------[ Xˣ ]---[ Zᶻ ]--- |ψ⟩\n",
    "           \n",
    "Given the moment, Alice wants to send Bob some important piece of information\n",
    "encoded as a qubit."
   ]
  },
  {
   "cell_type": "code",
   "execution_count": 38,
   "metadata": {},
   "outputs": [
    {
     "data": {
      "text/plain": [
       "2-element Array{Complex{Float64},1}:\n",
       "    0.75190393025605 + 0.5381299416639849im\n",
       " 0.38086302728175303 + 0.0im"
      ]
     },
     "execution_count": 38,
     "metadata": {},
     "output_type": "execute_result"
    }
   ],
   "source": [
    "# Any state ψ we want to teleport\n",
    "α = rand(Complex{Float64})\n",
    "β = sqrt(1 - α*conj(α)) # |α|² + |β|² = 1\n",
    "@assert α*conj(α) + β*conj(β) ≈ 1 \"State not properly normalized. Try with other (α,β)\"\n",
    "ψ = α*𝟎 + β*𝟏 # ∈ ℂ² ≝ ℂ ⊗ ℂ ; ρψ = ψ*ψ' ∈ ℂ ⊗ ℂ\n",
    "_ψ = ψ # we can do this only in a classic circuit (debugging purposes)"
   ]
  },
  {
   "cell_type": "markdown",
   "metadata": {},
   "source": [
    "She applies a conditional-NOT to the entangled qubit based on the state to be\n",
    "teleported, and applies a Hadamard matrix to the state to be teleported."
   ]
  },
  {
   "cell_type": "code",
   "execution_count": 39,
   "metadata": {},
   "outputs": [],
   "source": [
    "s = ψ ⊗ ebit;"
   ]
  },
  {
   "cell_type": "code",
   "execution_count": 40,
   "metadata": {},
   "outputs": [],
   "source": [
    "gate1 = CNOT ⊗ I(2)\n",
    "gate2 = H ⊗ I(4);"
   ]
  },
  {
   "cell_type": "code",
   "execution_count": 41,
   "metadata": {},
   "outputs": [],
   "source": [
    "ψ = gate2*gate1*s;"
   ]
  },
  {
   "cell_type": "markdown",
   "metadata": {},
   "source": [
    "Alice measures first two bits, posibilities are 00, 01, 10, and 11"
   ]
  },
  {
   "cell_type": "code",
   "execution_count": 42,
   "metadata": {},
   "outputs": [],
   "source": [
    "P𝟎𝟎 = 𝟎𝟎*𝟎𝟎' ⊗ I(2) # projections\n",
    "P𝟎𝟏 = 𝟎𝟏*𝟎𝟏' ⊗ I(2)\n",
    "P𝟏𝟎 = 𝟏𝟎*𝟏𝟎' ⊗ I(2)\n",
    "P𝟏𝟏 = 𝟏𝟏*𝟏𝟏' ⊗ I(2);"
   ]
  },
  {
   "cell_type": "code",
   "execution_count": 43,
   "metadata": {},
   "outputs": [],
   "source": [
    "ρψ = ψ*ψ' # density operator\n",
    "p𝟎𝟎 = tr(ρψ * P𝟎𝟎) |> real # probabilities\n",
    "p𝟎𝟏 = tr(ρψ * P𝟎𝟏) |> real\n",
    "p𝟏𝟎 = tr(ρψ * P𝟏𝟎) |> real\n",
    "p𝟏𝟏 = tr(ρψ * P𝟏𝟏) |> real;"
   ]
  },
  {
   "cell_type": "code",
   "execution_count": 44,
   "metadata": {},
   "outputs": [
    {
     "name": "stderr",
     "output_type": "stream",
     "text": [
      "┌ Info:   The probability of |𝟎𝟎⟩ is 0.2499999999999999\n",
      "└ @ Main In[44]:1\n",
      "┌ Info:   The probability of |𝟎𝟏⟩ is 0.2499999999999999\n",
      "└ @ Main In[44]:2\n",
      "┌ Info:   The probability of |𝟏𝟎⟩ is 0.2499999999999999\n",
      "└ @ Main In[44]:3\n",
      "┌ Info:   The probability of |𝟏𝟏⟩ is 0.2499999999999999\n",
      "└ @ Main In[44]:4\n"
     ]
    }
   ],
   "source": [
    "@info \"  The probability of |𝟎𝟎⟩ is $p𝟎𝟎\"\n",
    "@info \"  The probability of |𝟎𝟏⟩ is $p𝟎𝟏\"\n",
    "@info \"  The probability of |𝟏𝟎⟩ is $p𝟏𝟎\"\n",
    "@info \"  The probability of |𝟏𝟏⟩ is $p𝟏𝟏\""
   ]
  },
  {
   "cell_type": "markdown",
   "metadata": {},
   "source": [
    "All outcomes have the same chance."
   ]
  },
  {
   "cell_type": "code",
   "execution_count": 45,
   "metadata": {},
   "outputs": [],
   "source": [
    "icollapsed = argmax([p𝟎𝟎, p𝟎𝟏, p𝟏𝟎, p𝟏𝟏])\n",
    "icollapsed = rand(1:4) # to avoid taking always the first\n",
    "Pcollapsed = [P𝟎𝟎, P𝟎𝟏, P𝟏𝟎, P𝟏𝟏][icollapsed];"
   ]
  },
  {
   "cell_type": "code",
   "execution_count": 46,
   "metadata": {},
   "outputs": [
    {
     "name": "stderr",
     "output_type": "stream",
     "text": [
      "┌ Info:   Alice measured x = 1 and z = 0\n",
      "└ @ Main In[46]:3\n",
      "┌ Info:   Alice qubits collapsed to |𝟎𝟏⟩\n",
      "└ @ Main In[46]:4\n"
     ]
    }
   ],
   "source": [
    "x = (icollapsed == 2 || icollapsed == 4) |> Int\n",
    "z = (icollapsed == 3 || icollapsed == 4) |> Int\n",
    "@info \"  Alice measured x = $x and z = $z\"\n",
    "@info \"  Alice qubits collapsed to $([\"|𝟎𝟎⟩\", \"|𝟎𝟏⟩\", \"|𝟏𝟎⟩\", \"|𝟏𝟏⟩\"][icollapsed])\""
   ]
  },
  {
   "cell_type": "markdown",
   "metadata": {},
   "source": [
    "The resulting two classical bits are shared to Bob, who uses them to process\n",
    "his entangled bit."
   ]
  },
  {
   "cell_type": "code",
   "execution_count": 47,
   "metadata": {
    "lines_to_next_cell": 2
   },
   "outputs": [
    {
     "name": "stderr",
     "output_type": "stream",
     "text": [
      "┌ Info:   Teleported |ψ⟩ = (0.75190393025605 + 0.5381299416639849im) |𝟎⟩ + (0.3808630272817531 + 0.0im) |𝟏⟩ !!\n",
      "└ @ Main In[47]:5\n"
     ]
    }
   ],
   "source": [
    "range = 2icollapsed-1:2icollapsed\n",
    "ψ = normalize!(Pcollapsed*ψ)[range] # state after measurement of 𝟎𝟎\n",
    "ψ = Z^z * X^x * ψ # Bob uses Alice classical bits x and z\n",
    "@assert _ψ ≈ ψ \"Teleported state has been corrupted\"\n",
    "@info \"  Teleported |ψ⟩ = ($(ψ[1])) |𝟎⟩ + ($(ψ[2])) |𝟏⟩ !!\""
   ]
  },
  {
   "cell_type": "markdown",
   "metadata": {},
   "source": [
    "This is awesome! We have teleported a vast amount information just moving two\n",
    "bits. It is like seeing a sportman moving a truck with his beard! "
   ]
  },
  {
   "cell_type": "markdown",
   "metadata": {},
   "source": [
    "## Toffoli gate CCNOT"
   ]
  },
  {
   "cell_type": "code",
   "execution_count": 48,
   "metadata": {},
   "outputs": [
    {
     "data": {
      "text/plain": [
       "8×8 Array{Int64,2}:\n",
       " 1  0  0  0  0  0  0  0\n",
       " 0  1  0  0  0  0  0  0\n",
       " 0  0  1  0  0  0  0  0\n",
       " 0  0  0  1  0  0  0  0\n",
       " 0  0  0  0  1  0  0  0\n",
       " 0  0  0  0  0  1  0  0\n",
       " 0  0  0  0  0  0  0  1\n",
       " 0  0  0  0  0  0  1  0"
      ]
     },
     "execution_count": 48,
     "metadata": {},
     "output_type": "execute_result"
    }
   ],
   "source": [
    "#CCNOT = cat(I(6), [0 1; 1 0], dims=(1,2)) |> Matrix\n",
    "CCNOT = cat(I(4), CNOT, dims=(1,2)) |> Matrix"
   ]
  },
  {
   "cell_type": "code",
   "execution_count": 49,
   "metadata": {
    "lines_to_next_cell": 2
   },
   "outputs": [
    {
     "data": {
      "text/plain": [
       "Rz (generic function with 1 method)"
      ]
     },
     "execution_count": 49,
     "metadata": {},
     "output_type": "execute_result"
    }
   ],
   "source": [
    "Rx(θ) = cos(θ/2)*I(2) - im * sin(θ/2)*X\n",
    "Ry(θ) = cos(θ/2)*I(2) - im * sin(θ/2)*Y\n",
    "Rz(θ) = cos(θ/2)*I(2) - im * sin(θ/2)*Z"
   ]
  }
 ],
 "metadata": {
  "jupytext": {
   "cell_metadata_filter": "-all",
   "encoding": "# -*- coding: utf-8 -*-",
   "formats": "jl:light,ipynb"
  },
  "kernelspec": {
   "display_name": "Julia 1.5.3",
   "language": "julia",
   "name": "julia-1.5"
  },
  "language_info": {
   "file_extension": ".jl",
   "mimetype": "application/julia",
   "name": "julia",
   "version": "1.5.3"
  }
 },
 "nbformat": 4,
 "nbformat_minor": 4
}
