{
 "cells": [
  {
   "cell_type": "markdown",
   "metadata": {},
   "source": [
    "# Hands-on quantum computing for the very curious"
   ]
  },
  {
   "cell_type": "markdown",
   "metadata": {},
   "source": [
    "Have you ever heard of quantum teleportation and wondered what is it? Until\n",
    "very recently I was like you.  Even if I have received academic formation\n",
    "(involving quantum mechanics) I never thought that it was an easy phenomenom\n",
    "to grasp - always wondering what the exact protocol is. For instance, once I\n",
    "opened a quantum information book at a university public library and I was\n",
    "scared enough to not look further. On the other hand, popular explanations of\n",
    "the concept always fail to give a satisfactory description because they omit\n",
    "the only tool that helps us understand quantum mechanics: math. But my\n",
    "perspective changed completely when I encountered Nielsen and Matuschak's\n",
    "fantastic essays [Quantum Computing for the very\n",
    "curious](https://quantum.country/qcvc). Therefore I recommend you to read\n",
    "these before continuing.\n",
    "\n",
    "In this tutorial we will cover the same material but with a more\n",
    "computational approach. All code below is written in Julia. It turns out that\n",
    "most of the calculations can be reduced to simple low dimensional matrix\n",
    "operations.  The linear algebra objects that we need are: the identity matrix\n",
    "$I_m$, the adjoint operation $A^\\dagger$, the determinant, trace, kroenecker\n",
    "(or tensor) product, and a normalization function. The rest is already loaded\n",
    "by Julia.\n",
    "\n"
   ]
  },
  {
   "cell_type": "code",
   "execution_count": null,
   "metadata": {},
   "outputs": [],
   "source": [
    "using LinearAlgebra: I, adjoint, det, tr, kron, normalize!\n",
    "const ⊗ = kron"
   ]
  },
  {
   "cell_type": "markdown",
   "metadata": {},
   "source": [
    "## Computational quantum basis\n",
    "\n",
    "Our digital computers are able to reduce all information to zeros and ones,\n",
    "that is, a bit may be one of the set $\\{0,1\\}$. Measurements can be described\n",
    "as the mapping ($m: \\{0,1\\} \\to [0,1]$) from the space of possible bits to a\n",
    "probability between zero and one. However, quantum bits belong to a\n",
    "two-dimensional complex vector space $\\mathbb{C}^2$. Measurements give also a\n",
    "probability but draw from a larger space ($m: \\mathbb{C}^2 \\to [0,1]$). As\n",
    "you can see, we loose a lot of information when we measure. So, to operate\n",
    "with quantum bits we have to find out how to represent our data with them.\n",
    "\n",
    "First, we have to choose in which basis we want to work. It will be the\n",
    "standard computational quantum basis.\n",
    "\n",
    "* $|0\\rangle$ = [1 0]ᵀ is the classical bit 0\n",
    "* $|1\\rangle$ = [0 1]ᵀ is the classical bit 1"
   ]
  },
  {
   "cell_type": "code",
   "execution_count": null,
   "metadata": {},
   "outputs": [],
   "source": [
    "𝟎 = [1, 0] # typeset with \\bfzero\n",
    "𝟏 = [0, 1] # \\bfone"
   ]
  },
  {
   "cell_type": "markdown",
   "metadata": {},
   "source": [
    "\n",
    "### A qubit\n",
    "\n",
    "A more general qubit $|\\psi\\rangle = α |𝟎\\rangle + β |𝟏\\rangle \\in\n",
    "\\mathbb{C}^2$ is described as a linear combination of the basis vectors and\n",
    "it must satisfy the normalization condition $|α|² + |β|² = 1$."
   ]
  },
  {
   "cell_type": "code",
   "execution_count": null,
   "metadata": {},
   "outputs": [],
   "source": [
    "α = 0.6\n",
    "β = 0.8\n",
    "@info \"  Normalization constraint: |α|² + |β|² = 1\"\n",
    "@assert α^2 + β^2 ≈ 1 # normalization contraint (here for α, β ∈ ℝ)\n",
    "ψ = α*𝟎 + β*𝟏\n",
    "@assert ψ ≈ [α, β]"
   ]
  },
  {
   "cell_type": "markdown",
   "metadata": {},
   "source": [
    "## Quantum gates\n",
    "\n",
    "Once we have transformed our information to qubits we need to manipulate them\n",
    "to do calculations. Those operations are realized with gates that are\n",
    "analogous to classical circuit gates.\n",
    "\n",
    "### NOT gate == X == σₓ == ---[ X ]---"
   ]
  },
  {
   "cell_type": "code",
   "execution_count": null,
   "metadata": {},
   "outputs": [],
   "source": [
    "X = [0 1; 1 0]"
   ]
  },
  {
   "cell_type": "code",
   "execution_count": null,
   "metadata": {
    "lines_to_next_cell": 2
   },
   "outputs": [],
   "source": [
    "@assert X*𝟎 ≈ 𝟏\n",
    "@assert X*𝟏 ≈ 𝟎\n",
    "# By the linearity of matrix multiplication it follows that the matrix acts the\n",
    "# same way as the X on all input states, and so they are the same operation."
   ]
  },
  {
   "cell_type": "code",
   "execution_count": null,
   "metadata": {},
   "outputs": [],
   "source": [
    "@assert X*adjoint(X) ≈ I(2) # this is a proof of unitariness"
   ]
  },
  {
   "cell_type": "code",
   "execution_count": null,
   "metadata": {},
   "outputs": [],
   "source": [
    "X*ψ"
   ]
  },
  {
   "cell_type": "markdown",
   "metadata": {},
   "source": [
    "### Hadamard gate == H == ---[ H ]---\n",
    "\n",
    "A Hadamard gate converts a classical bit into a non-trivial qubit."
   ]
  },
  {
   "cell_type": "code",
   "execution_count": null,
   "metadata": {},
   "outputs": [],
   "source": [
    "H = [1 1; 1 -1]./√2"
   ]
  },
  {
   "cell_type": "code",
   "execution_count": null,
   "metadata": {},
   "outputs": [],
   "source": [
    "@assert H*𝟎 ≈ [1, 1]./√2 # kinda bonding state\n",
    "@assert H*𝟏 ≈ [1,-1]./√2 # kinda antibonding state\n",
    "# By the linearity of matrix multiplication it follows that the matrix acts the\n",
    "# same way as the Hadamard on all input states, and so they are the same\n",
    "# operation."
   ]
  },
  {
   "cell_type": "code",
   "execution_count": null,
   "metadata": {},
   "outputs": [],
   "source": [
    "@assert H^2 ≈ I(2) # H is idempotent"
   ]
  },
  {
   "cell_type": "code",
   "execution_count": null,
   "metadata": {
    "lines_to_next_cell": 2
   },
   "outputs": [],
   "source": [
    "@assert H*adjoint(H) ≈ I(2) # this is a proof of unitariness\n",
    "@assert abs(det(H)) ≈ 1 # conservation of particles"
   ]
  },
  {
   "cell_type": "markdown",
   "metadata": {},
   "source": [
    "Not every matrix is a gate, for instance"
   ]
  },
  {
   "cell_type": "code",
   "execution_count": null,
   "metadata": {},
   "outputs": [],
   "source": [
    "J = [1 1; 1 1]./√2\n",
    "@assert (J*adjoint(J) ≈ I(2)) == false"
   ]
  },
  {
   "cell_type": "markdown",
   "metadata": {},
   "source": [
    "H X ψ == ---[ X ]---[ H ]---\n",
    "\n",
    "### Measurement == ---| m )===\n",
    "\n",
    "Measurements can be performed by \"casting the shadow\" of the qubit state at a\n",
    "place where we can look, that is, our computational quantum basis."
   ]
  },
  {
   "cell_type": "code",
   "execution_count": null,
   "metadata": {},
   "outputs": [],
   "source": [
    "measure(ψ, verbose=false) = begin\n",
    "   #println(\"m = 0 with probability $(ψ[1]^2)\")\n",
    "   #println(\"m = 1 with probability $(ψ[2]^2)\")\n",
    "   #p𝟎 = ψ[1]*conj(ψ[1])\n",
    "   #p𝟏 = ψ[2]*conj(ψ[2])\n",
    "   p𝟎 = tr(ψ*ψ' * 𝟎*𝟎')\n",
    "   p𝟏 = tr(ψ*ψ' * 𝟏*𝟏')\n",
    "   if verbose\n",
    "      println(\"m = 0 with probability $p𝟎\")\n",
    "      println(\"m = 1 with probability $p𝟏\")\n",
    "   end\n",
    "   [p𝟎, p𝟏]\n",
    "end"
   ]
  },
  {
   "cell_type": "code",
   "execution_count": null,
   "metadata": {},
   "outputs": [],
   "source": [
    "# _ψ2 ---[ H ]---[ m )===\n",
    "_ψ = rand([𝟎,𝟏])\n",
    "_ψ2 = H*_ψ # Input state is either (|0⟩ + |1⟩)/√2 or (|0⟩ - |1⟩)/√2\n",
    "H*_ψ2 |> measure"
   ]
  },
  {
   "cell_type": "markdown",
   "metadata": {
    "lines_to_next_cell": 2
   },
   "source": [
    "    if m = 0 => input was (|0⟩ + |1⟩)/√2\n",
    "    if m = 1 => input was (|0⟩ - |1⟩)/√2\n",
    "\n",
    "### Y gate == σy == ---[ Y ]---"
   ]
  },
  {
   "cell_type": "code",
   "execution_count": null,
   "metadata": {},
   "outputs": [],
   "source": [
    "Y = [0 -im; im 0]\n",
    "@assert Y*adjoint(Y) ≈ I(2)"
   ]
  },
  {
   "cell_type": "markdown",
   "metadata": {},
   "source": [
    "### Z  gate == σz == ---[ Z ]---"
   ]
  },
  {
   "cell_type": "code",
   "execution_count": null,
   "metadata": {},
   "outputs": [],
   "source": [
    "\n",
    "Z = [1 0; 0 -1]\n",
    "@assert Z*adjoint(Z) ≈ I(2)"
   ]
  },
  {
   "cell_type": "markdown",
   "metadata": {},
   "source": [
    "### General rotation gate"
   ]
  },
  {
   "cell_type": "code",
   "execution_count": null,
   "metadata": {},
   "outputs": [],
   "source": [
    "θ = π/2"
   ]
  },
  {
   "cell_type": "code",
   "execution_count": null,
   "metadata": {},
   "outputs": [],
   "source": [
    "R = [cos(θ) -sin(θ); sin(θ) cos(θ)]"
   ]
  },
  {
   "cell_type": "code",
   "execution_count": null,
   "metadata": {},
   "outputs": [],
   "source": [
    "@assert R*adjoint(R) ≈ I(2)"
   ]
  },
  {
   "cell_type": "markdown",
   "metadata": {},
   "source": [
    "## Multi-qubit states\n",
    "\n",
    "Take the form $\\psi_1 ⊗ \\psi_2 ⊗ \\cdots$"
   ]
  },
  {
   "cell_type": "code",
   "execution_count": null,
   "metadata": {},
   "outputs": [],
   "source": [
    "𝟎𝟎 = 𝟎 ⊗ 𝟎\n",
    "𝟎𝟏 = 𝟎 ⊗ 𝟏\n",
    "𝟏𝟎 = 𝟏 ⊗ 𝟎\n",
    "𝟏𝟏 = 𝟏 ⊗ 𝟏"
   ]
  },
  {
   "cell_type": "code",
   "execution_count": null,
   "metadata": {},
   "outputs": [],
   "source": [
    "γ = 0.8\n",
    "δ = 0.6\n",
    "ϕ = γ*𝟎 + δ*𝟏"
   ]
  },
  {
   "cell_type": "markdown",
   "metadata": {},
   "source": [
    "More generally, if we have single-qubit states ψ and ϕ, then the combined\n",
    "state when the two qubits are put together is just:"
   ]
  },
  {
   "cell_type": "code",
   "execution_count": null,
   "metadata": {},
   "outputs": [],
   "source": [
    "ξ = ψ ⊗ ϕ\n",
    "@assert ξ ≈ [ψ[1]*ϕ[1], ψ[1]*ϕ[2], ψ[2]*ϕ[1], ψ[2]*ϕ[2]]"
   ]
  },
  {
   "cell_type": "markdown",
   "metadata": {},
   "source": [
    "## Multi-qubit gates\n",
    "Take the form  G₁ ⊗ G₂ ⊗ ⋯\n",
    "\n",
    "### Controlled-NOT gate == CNOT\n",
    "      x ---⋅---\n",
    "           |\n",
    "      y ---⊕---\n",
    "      x is the control qubit\n",
    "      y is the target qubit\n",
    "      |x, y ⊕ x⟩ for short"
   ]
  },
  {
   "cell_type": "code",
   "execution_count": null,
   "metadata": {
    "lines_to_next_cell": 2
   },
   "outputs": [],
   "source": [
    "CNOT = [1 0 0 0;\n",
    "        0 1 0 0;\n",
    "        0 0 0 1;\n",
    "        0 0 1 0]\n",
    "# Also\n",
    "@assert CNOT ≈ cat(I(2), X, dims=(1,2)) #|> Matrix\n",
    "@assert CNOT ≈ 𝟎*𝟎' ⊗ I(2) + 𝟏*𝟏' ⊗ X"
   ]
  },
  {
   "cell_type": "code",
   "execution_count": null,
   "metadata": {
    "lines_to_next_cell": 2
   },
   "outputs": [],
   "source": [
    "@assert CNOT*𝟎𝟎 ≈ 𝟎𝟎\n",
    "@assert CNOT*𝟎𝟏 ≈ 𝟎𝟏\n",
    "@assert CNOT*𝟏𝟎 ≈ 𝟏𝟏\n",
    "@assert CNOT*𝟏𝟏 ≈ 𝟏𝟎"
   ]
  },
  {
   "cell_type": "code",
   "execution_count": null,
   "metadata": {},
   "outputs": [],
   "source": [
    "# Apply H to first qubit in a 2d space\n",
    "H₁ = H ⊗ I(2)\n",
    "# Apply H to second qubit in a 2d space\n",
    "H₂ = I(2) ⊗ H"
   ]
  },
  {
   "cell_type": "code",
   "execution_count": null,
   "metadata": {
    "lines_to_next_cell": 2
   },
   "outputs": [],
   "source": [
    "CNOT*H₁*𝟎𝟎"
   ]
  },
  {
   "cell_type": "markdown",
   "metadata": {},
   "source": [
    "Beware, CNOT can change the control qubit!"
   ]
  },
  {
   "cell_type": "code",
   "execution_count": null,
   "metadata": {},
   "outputs": [],
   "source": [
    "# |+-⟩\n",
    "pm = H*𝟎 ⊗ H*𝟏\n",
    "# |--⟩\n",
    "mm = H*𝟏 ⊗ H*𝟏"
   ]
  },
  {
   "cell_type": "markdown",
   "metadata": {},
   "source": [
    "    |0⟩ ---[ H ]--- |+⟩---⋅--- |-⟩\n",
    "                          |\n",
    "    |1⟩ ---[ H ]--- |-⟩---⊕--- |-⟩"
   ]
  },
  {
   "cell_type": "code",
   "execution_count": null,
   "metadata": {},
   "outputs": [],
   "source": [
    "@assert CNOT*pm ≈ mm"
   ]
  },
  {
   "cell_type": "markdown",
   "metadata": {},
   "source": [
    "## Global phase factor"
   ]
  },
  {
   "cell_type": "code",
   "execution_count": null,
   "metadata": {},
   "outputs": [],
   "source": [
    "θ = rand() # any real number"
   ]
  },
  {
   "cell_type": "code",
   "execution_count": null,
   "metadata": {},
   "outputs": [],
   "source": [
    "G(θ) = ℯ^(im*θ) * I(2) # global phase factor ℯ^(iθ)"
   ]
  },
  {
   "cell_type": "code",
   "execution_count": null,
   "metadata": {},
   "outputs": [],
   "source": [
    "if typeof(θ) <: Real\n",
    "   @assert G(θ)*adjoint(G(θ)) ≈ I(2)\n",
    "   @info \"A matrix changing the global phase factor is unitary.\"\n",
    "end"
   ]
  },
  {
   "cell_type": "code",
   "execution_count": null,
   "metadata": {},
   "outputs": [],
   "source": [
    "@info \"Changing the phase does not affect the measurement.\"\n",
    "@assert G(rand())*𝟎 |> measure ≈ measure(𝟎)"
   ]
  },
  {
   "cell_type": "markdown",
   "metadata": {},
   "source": [
    "## Other gates"
   ]
  },
  {
   "cell_type": "code",
   "execution_count": null,
   "metadata": {},
   "outputs": [],
   "source": [
    "S = [ 1 0; 0 im]\n",
    "T = [ 1 0; 0 ℯ^(im*π/4)]\n",
    "#Y = [ 0 -im; im 0]\n",
    "#Z = [ 1 0; 0 -1]"
   ]
  },
  {
   "cell_type": "markdown",
   "metadata": {},
   "source": [
    "## Quantum teleportation"
   ]
  },
  {
   "cell_type": "markdown",
   "metadata": {
    "lines_to_next_cell": 2
   },
   "source": [
    "Alice and Bob can share beforehand a special two-qubit\n",
    "\n",
    "    |0⟩ ---[ H ]---⋅--- \n",
    "                   |   \n",
    "                   |    (|00⟩ + |11⟩)/√2\n",
    "                   |\n",
    "    |0⟩ -----------⊕---\n",
    "    \n"
   ]
  },
  {
   "cell_type": "code",
   "execution_count": null,
   "metadata": {},
   "outputs": [],
   "source": [
    "ebit = CNOT*H₁*𝟎𝟎 # entangled bit -> shared"
   ]
  },
  {
   "cell_type": "markdown",
   "metadata": {},
   "source": [
    "Then, they can separate.\n",
    "\n",
    "The full protocol can be condensed in the following diagram\n",
    "\n",
    "             teleported state:  |ψ⟩  ------⋅---[ H ]---[ z )===\n",
    "                                           |\n",
    "                                           |\n",
    "                                           |\n",
    "           |0⟩ ---[ H ]---⋅----------------⊕-----------[ x )===\n",
    "                          |  |00⟩ + |11⟩\n",
    "                          | ------------\n",
    "                          |      √2\n",
    "           |0⟩ -----------⊕------------------------------------[ Xˣ ]---[ Zᶻ ]--- |ψ⟩\n",
    "           \n",
    "Given the moment, Alice wants to send Bob some important piece of information\n",
    "encoded as a qubit."
   ]
  },
  {
   "cell_type": "code",
   "execution_count": null,
   "metadata": {},
   "outputs": [],
   "source": [
    "# Any state ψ we want to teleport\n",
    "α = rand(Complex{Float64})\n",
    "β = sqrt(1 - α*conj(α)) # |α|² + |β|² = 1\n",
    "@assert α*conj(α) + β*conj(β) ≈ 1 \"State not properly normalized. Try with other (α,β)\"\n",
    "ψ = α*𝟎 + β*𝟏 # ∈ ℂ² ≝ ℂ ⊗ ℂ ; ρψ = ψ*ψ' ∈ ℂ ⊗ ℂ\n",
    "_ψ = ψ # we can do this only in a classic circuit (debugging purposes)"
   ]
  },
  {
   "cell_type": "markdown",
   "metadata": {},
   "source": [
    "She applies a conditional not to the entangled qubit based on the state to be\n",
    "teleported, and applies a Hadamard matrix to the state to be teleported."
   ]
  },
  {
   "cell_type": "code",
   "execution_count": null,
   "metadata": {},
   "outputs": [],
   "source": [
    "s = ψ ⊗ ebit"
   ]
  },
  {
   "cell_type": "code",
   "execution_count": null,
   "metadata": {},
   "outputs": [],
   "source": [
    "gate1 = CNOT ⊗ I(2)\n",
    "gate2 = H ⊗ I(4)"
   ]
  },
  {
   "cell_type": "code",
   "execution_count": null,
   "metadata": {},
   "outputs": [],
   "source": [
    "ψ = gate2*gate1*s"
   ]
  },
  {
   "cell_type": "markdown",
   "metadata": {},
   "source": [
    "Alice measures first two bits, posibilities are 00, 01, 10, and 11"
   ]
  },
  {
   "cell_type": "code",
   "execution_count": null,
   "metadata": {},
   "outputs": [],
   "source": [
    "P𝟎𝟎 = 𝟎𝟎*𝟎𝟎' ⊗ I(2) # projections\n",
    "P𝟎𝟏 = 𝟎𝟏*𝟎𝟏' ⊗ I(2)\n",
    "P𝟏𝟎 = 𝟏𝟎*𝟏𝟎' ⊗ I(2)\n",
    "P𝟏𝟏 = 𝟏𝟏*𝟏𝟏' ⊗ I(2)"
   ]
  },
  {
   "cell_type": "code",
   "execution_count": null,
   "metadata": {},
   "outputs": [],
   "source": [
    "ρψ = ψ*ψ' # density operator\n",
    "p𝟎𝟎 = tr(ρψ * P𝟎𝟎) |> real # probabilities\n",
    "p𝟎𝟏 = tr(ρψ * P𝟎𝟏) |> real\n",
    "p𝟏𝟎 = tr(ρψ * P𝟏𝟎) |> real\n",
    "p𝟏𝟏 = tr(ρψ * P𝟏𝟏) |> real"
   ]
  },
  {
   "cell_type": "code",
   "execution_count": null,
   "metadata": {},
   "outputs": [],
   "source": [
    "@info \"  The probability of |𝟎𝟎⟩ is $p𝟎𝟎\"\n",
    "@info \"  The probability of |𝟎𝟏⟩ is $p𝟎𝟏\"\n",
    "@info \"  The probability of |𝟏𝟎⟩ is $p𝟏𝟎\"\n",
    "@info \"  The probability of |𝟏𝟏⟩ is $p𝟏𝟏\""
   ]
  },
  {
   "cell_type": "markdown",
   "metadata": {},
   "source": [
    "All outcomes have the same chance."
   ]
  },
  {
   "cell_type": "code",
   "execution_count": null,
   "metadata": {},
   "outputs": [],
   "source": [
    "icollapsed = argmax([p𝟎𝟎, p𝟎𝟏, p𝟏𝟎, p𝟏𝟏])\n",
    "icollapsed = rand(1:4) # to avoid taking always the first\n",
    "Pcollapsed = [P𝟎𝟎, P𝟎𝟏, P𝟏𝟎, P𝟏𝟏][icollapsed]"
   ]
  },
  {
   "cell_type": "code",
   "execution_count": null,
   "metadata": {},
   "outputs": [],
   "source": [
    "x = (icollapsed == 2 || icollapsed == 4) |> Int\n",
    "z = (icollapsed == 3 || icollapsed == 4) |> Int\n",
    "@info \"  Alice measured x = $x and z = $z\"\n",
    "@info \"  Alice qubits collapsed to $([\"|𝟎𝟎⟩\", \"|𝟎𝟏⟩\", \"|𝟏𝟎⟩\", \"|𝟏𝟏⟩\"][icollapsed])\""
   ]
  },
  {
   "cell_type": "markdown",
   "metadata": {},
   "source": [
    "The resulting two classical bits are shared to Bob, who uses them to process\n",
    "his entangled bit."
   ]
  },
  {
   "cell_type": "code",
   "execution_count": null,
   "metadata": {
    "lines_to_next_cell": 2
   },
   "outputs": [],
   "source": [
    "range = 2icollapsed-1:2icollapsed\n",
    "ψ = normalize!(Pcollapsed*ψ)[range] # state after measurement of 𝟎𝟎\n",
    "ψ = Z^z * X^x * ψ # Bob uses Alice classical bits x and z\n",
    "@assert _ψ ≈ ψ \"Teleported state has been corrupted\"\n",
    "@info \"  Teleported |ψ⟩ = ($(ψ[1])) |𝟎⟩ + ($(ψ[2])) |𝟏⟩ !!\""
   ]
  },
  {
   "cell_type": "markdown",
   "metadata": {},
   "source": [
    "This is awesome! We have teleported a vast amount information just moving two\n",
    "bits. It is like seeing a sportman moving a truck with his beard! "
   ]
  },
  {
   "cell_type": "markdown",
   "metadata": {},
   "source": [
    "## Toffoli gate CCNOT"
   ]
  },
  {
   "cell_type": "code",
   "execution_count": null,
   "metadata": {},
   "outputs": [],
   "source": [
    "#CCNOT = cat(I(6), [0 1; 1 0], dims=(1,2)) |> Matrix\n",
    "CCNOT = cat(I(2), CNOT, dims=(1,2)) |> Matrix"
   ]
  }
 ],
 "metadata": {
  "jupytext": {
   "cell_metadata_filter": "-all",
   "encoding": "# -*- coding: utf-8 -*-",
   "formats": "jl:light,ipynb"
  },
  "kernelspec": {
   "display_name": "Julia 1.4.2",
   "language": "julia",
   "name": "julia-1.4"
  },
  "language_info": {
   "codemirror_mode": {
    "name": "ipython",
    "version": 3
   },
   "file_extension": ".py",
   "mimetype": "text/x-python",
   "name": "python",
   "nbconvert_exporter": "python",
   "pygments_lexer": "ipython3",
   "version": "3.6.10"
  }
 },
 "nbformat": 4,
 "nbformat_minor": 4
}
